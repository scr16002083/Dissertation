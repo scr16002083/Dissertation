{
 "cells": [
  {
   "cell_type": "code",
   "execution_count": 1,
   "metadata": {},
   "outputs": [],
   "source": [
    "import pandas as pd\n",
    "\n",
    "#Imports the cleaned questions\n",
    "df = pd.read_csv('CleanedQuestions.csv')\n",
    "df = df.loc[:, ~df.columns.str.contains('Unnamed')]"
   ]
  },
  {
   "cell_type": "code",
   "execution_count": 1,
   "metadata": {},
   "outputs": [
    {
     "name": "stdout",
     "output_type": "stream",
     "text": [
      " * Serving Flask app '__main__' (lazy loading)\n",
      " * Environment: production\n",
      "\u001b[31m   WARNING: This is a development server. Do not use it in a production deployment.\u001b[0m\n",
      "\u001b[2m   Use a production WSGI server instead.\u001b[0m\n",
      " * Debug mode: off\n"
     ]
    },
    {
     "name": "stderr",
     "output_type": "stream",
     "text": [
      " * Running on http://127.0.0.1:7777 (Press CTRL+C to quit)\n"
     ]
    }
   ],
   "source": [
    "from flask import *\n",
    "import json\n",
    "\n",
    "#creates flask app\n",
    "app = Flask(__name__)\n",
    "\n",
    "#creates API route for the main page which just confirms that the API has loaded correctly\n",
    "@app.route('/', methods=['GET'])\n",
    "def home_page():\n",
    "    data_set = {'Message': 'Successfully loaded API'}\n",
    "    json_dump = json.dumps(data_set)\n",
    "\n",
    "    return json_dump\n",
    "\n",
    "#Creates API route for question page \n",
    "@app.route('/question/', methods=['GET']) \n",
    "def question_request():\n",
    "    #gets the user's question from the api http request\n",
    "    question = str(request.args.get('question')) #/question/?question=question\n",
    "    #sets the return data message to the question so the user can see its registered the question input\n",
    "    data_set = {'Message': f'{question}'}\n",
    "    json_dump = json.dumps(data_set)\n",
    "    \n",
    "    #uses rapid fuzz to match the user question with question's in the database and then extracts the name (link to the question post) from the question in the database\n",
    "    from rapidfuzz import process, fuzz\n",
    "\n",
    "    most_similar = process.extractOne(question, df['Question'], scorer=fuzz.WRatio)\n",
    "    most_similar = list(most_similar)\n",
    "\n",
    "\n",
    "    questionName = df.loc[df['Question'] == most_similar[0]]['Name']\n",
    "    questionName = list(questionName)[0]\n",
    "\n",
    "\n",
    "\n",
    "    #Accesses the reddit api and makes sure it's working\n",
    "    CLIENT_ID = 'lpakYt45RJlvK6Lp6ybehw'\n",
    "    SECRET_KEY = 'XXHGvxgxAhlEHK6-KMy8nP_QmcedXg'\n",
    "\n",
    "    import requests\n",
    "\n",
    "    auth = requests.auth.HTTPBasicAuth(CLIENT_ID, SECRET_KEY)\n",
    "    data = {\n",
    "        'grant_type' : 'password',\n",
    "        'username' : 'PiccoloNo3695',\n",
    "        'password' : 'scooby2203'\n",
    "    }\n",
    "\n",
    "    headers = {'User-Agent' : 'MyAPI/0.0.1'}\n",
    "    res = requests.post('https://www.reddit.com/api/v1/access_token', auth=auth, data=data, headers=headers)\n",
    "    TOKEN = res.json()['access_token']\n",
    "    headers['Authorization'] = f'bearer {TOKEN}'\n",
    "\n",
    "    requests.get('https://oauth.reddit.com/api/v1/me', headers=headers)\n",
    "\n",
    "\n",
    "\n",
    "    #makes a link variable that is equal to the api link for getting comments from a specific post by adding the name of the selected post to the link and then makes a get request \n",
    "    #to fetch all the comments from the selected post\n",
    "    link = 'http://oauth.reddit.com/r/python/comments/' + str(questionName)\n",
    "    res = requests.get(link, headers=headers, params={'limit' : '100'})\n",
    "    res.json()[0]\n",
    "\n",
    "\n",
    "\n",
    "    #Converts the comment json into a readable dataframe format with just the important information that been the comment text and the score of the comment\n",
    "    import pandas as pd\n",
    "\n",
    "    df2 = pd.DataFrame()\n",
    "    for post in res.json()[1]['data']['children']:\n",
    "        df2 = df2.append({\n",
    "            'Awnser' : post ['data']['body'],\n",
    "            'Score' : post ['data']['score']\n",
    "        }, ignore_index=True)\n",
    "\n",
    "\n",
    "\n",
    "    #Makes the awnser variable equal to the awnser with the highest score\n",
    "    awnser = df2.loc[df2['Score'].idxmax()]\n",
    "    awnser = awnser['Awnser']\n",
    "\n",
    "    #creates a route to send the awnser back to the user\n",
    "    @app.route('/awnser/', methods=['GET']) \n",
    "    def awnser_():\n",
    "        data_set = {'Message': f'{awnser}'}\n",
    "        json_dump = json.dumps(data_set)\n",
    "\n",
    "        return json_dump\n",
    "\n",
    "    \n",
    "\n",
    "    return json_dump\n",
    "\n",
    "#runs the api on port 7777 on the local machine\n",
    "if __name__ == '__main__':\n",
    "    app.run(port=7777)\n",
    "\n",
    "\n",
    "\n",
    "    "
   ]
  }
 ],
 "metadata": {
  "interpreter": {
   "hash": "a42ccb73e7d9bfdf27e036f1d2b8b681e55fc0743cc5586bc2474d4a60f4b886"
  },
  "kernelspec": {
   "display_name": "Python 3.10.2 64-bit",
   "language": "python",
   "name": "python3"
  },
  "language_info": {
   "codemirror_mode": {
    "name": "ipython",
    "version": 3
   },
   "file_extension": ".py",
   "mimetype": "text/x-python",
   "name": "python",
   "nbconvert_exporter": "python",
   "pygments_lexer": "ipython3",
   "version": "3.10.2"
  },
  "orig_nbformat": 4
 },
 "nbformat": 4,
 "nbformat_minor": 2
}
