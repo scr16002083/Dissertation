{
 "cells": [
  {
   "cell_type": "code",
   "execution_count": null,
   "metadata": {},
   "outputs": [],
   "source": [
    "import pandas as pd\n",
    "\n",
    "df = pd.read_csv('Questions.csv')\n",
    "#deletes all collumns called unnamed which are created by the api running multiple times\n",
    "df = df.loc[:, ~df.columns.str.contains('Unnamed')]\n",
    "df"
   ]
  },
  {
   "cell_type": "code",
   "execution_count": null,
   "metadata": {},
   "outputs": [],
   "source": [
    "#This deletes all duplicates\n",
    "df = df.drop_duplicates(subset='Name', keep=\"first\")\n",
    "df"
   ]
  },
  {
   "cell_type": "code",
   "execution_count": null,
   "metadata": {},
   "outputs": [],
   "source": [
    "#Deletes all Questions with 0 comments\n",
    "df = df[df['Number of Comments'] !=0]\n",
    "#Deletes number of comments row as it is no longer required\n",
    "df.drop('Number of Comments', inplace=True, axis=1)\n",
    "df"
   ]
  },
  {
   "cell_type": "code",
   "execution_count": null,
   "metadata": {},
   "outputs": [],
   "source": [
    "#Deletes all NFSW posts\n",
    "df = df[df['NFSW'] !='1']\n",
    "df = df[df['NFSW'] !='TRUE']\n",
    "#Deletes NFSW row as it is no longer required\n",
    "df.drop('NFSW', inplace=True, axis=1)\n",
    "df"
   ]
  },
  {
   "cell_type": "code",
   "execution_count": null,
   "metadata": {},
   "outputs": [],
   "source": [
    "#Fills in empty questions with the question alternatives and then deletes the question alternative column\n",
    "df.Question.fillna(df.QuestionAlternative, inplace=True)\n",
    "del df['QuestionAlternative']\n",
    "df"
   ]
  },
  {
   "cell_type": "code",
   "execution_count": 6,
   "metadata": {},
   "outputs": [],
   "source": [
    "#Exports cleaned dataframe to new csv where the cleaned data can be used by the bot\n",
    "df.to_csv('CleanedQuestions.csv')"
   ]
  }
 ],
 "metadata": {
  "interpreter": {
   "hash": "a42ccb73e7d9bfdf27e036f1d2b8b681e55fc0743cc5586bc2474d4a60f4b886"
  },
  "kernelspec": {
   "display_name": "Python 3.10.2 64-bit",
   "language": "python",
   "name": "python3"
  },
  "language_info": {
   "codemirror_mode": {
    "name": "ipython",
    "version": 3
   },
   "file_extension": ".py",
   "mimetype": "text/x-python",
   "name": "python",
   "nbconvert_exporter": "python",
   "pygments_lexer": "ipython3",
   "version": "3.10.2"
  },
  "orig_nbformat": 4
 },
 "nbformat": 4,
 "nbformat_minor": 2
}
