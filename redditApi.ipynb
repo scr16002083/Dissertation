{
 "cells": [
  {
   "cell_type": "code",
   "execution_count": 9,
   "metadata": {},
   "outputs": [],
   "source": [
    "#API Keys\n",
    "CLIENT_ID = 'lpakYt45RJlvK6Lp6ybehw'\n",
    "SECRET_KEY = 'XXHGvxgxAhlEHK6-KMy8nP_QmcedXg'"
   ]
  },
  {
   "cell_type": "code",
   "execution_count": 10,
   "metadata": {},
   "outputs": [],
   "source": [
    "#imports the request module and acquires an access token from the api by giving it our user name and password for reddit which we can then use to access and use the API\n",
    "import requests\n",
    "\n",
    "auth = requests.auth.HTTPBasicAuth(CLIENT_ID, SECRET_KEY)\n",
    "data = {\n",
    "    'grant_type' : 'password',\n",
    "    'username' : 'PiccoloNo3695',\n",
    "    'password' : 'scooby2203'\n",
    "}\n",
    "\n",
    "headers = {'User-Agent' : 'MyAPI/0.0.1'}\n",
    "res = requests.post('https://www.reddit.com/api/v1/access_token', auth=auth, data=data, headers=headers)\n",
    "TOKEN = res.json()['access_token']\n",
    "headers['Authorization'] = f'bearer {TOKEN}'"
   ]
  },
  {
   "cell_type": "code",
   "execution_count": 11,
   "metadata": {},
   "outputs": [
    {
     "data": {
      "text/plain": [
       "<Response [200]>"
      ]
     },
     "execution_count": 11,
     "metadata": {},
     "output_type": "execute_result"
    }
   ],
   "source": [
    "#checks to make sure api is connecting properly, response 200 means all is well\n",
    "requests.get('https://oauth.reddit.com/api/v1/me', headers=headers)"
   ]
  },
  {
   "cell_type": "code",
   "execution_count": 12,
   "metadata": {},
   "outputs": [],
   "source": [
    "#gets all the hot posts from the python subreddit use the paramas limit to change the amount of posts you are getting (100 is the max), also change the url at the end to either new/hot/top/rising depending on what you want from the subreddit\n",
    "res = requests.get('http://oauth.reddit.com/r/python/top/?t=all', headers=headers, params={'limit' : '100'})\n",
    "res.json()\n",
    "\n",
    "#sets the variable after to equal the name of the last post in the first request\n",
    "after = res.json()['data']['after']"
   ]
  },
  {
   "cell_type": "code",
   "execution_count": null,
   "metadata": {},
   "outputs": [],
   "source": [
    "#this sorts through the request json, picking out the important information and converting it into a dataframe table format where it can be better interpreted\n",
    "import pandas as pd\n",
    "\n",
    "#df = pd.read_csv('Questions.csv')\n",
    "df = pd.DataFrame()\n",
    "df = df.loc[:, ~df.columns.str.contains('Unnamed')]\n",
    "for post in res.json()['data']['children']:\n",
    "    name = post ['data']['name']\n",
    "    link = name[3:]\n",
    "    df = df.append({\n",
    "        'Question' : post['data']['selftext'],\n",
    "        'QuestionAlternative' : post['data']['title'],\n",
    "        'NFSW' : post['data']['over_18'],\n",
    "        'Name' : link,\n",
    "        'Source' : 'Reddit ' + \"- r/\" + post ['data']['subreddit'],\n",
    "        'Number of Comments' : post['data']['num_comments']\n",
    "    }, ignore_index=True)\n",
    "df\n"
   ]
  },
  {
   "cell_type": "code",
   "execution_count": null,
   "metadata": {},
   "outputs": [],
   "source": [
    "#this creates a new request which fetches all the posts after the last post in the first request and then adds those posts to the dataframe in the same format\n",
    "#it then loops back adding +1 to the i variable and creating a new request that fetches all the posts after the last request made\n",
    "#the while loop runs until i is above the value set in the while loop, so if the value is set to 5, 5 requests will be made ontop of the original request\n",
    "#and then you will have 600 posts in the dataframe\n",
    "i = 1\n",
    "\n",
    "while i <= 100:\n",
    "\n",
    "    i = i + 1\n",
    "\n",
    "    res2 = requests.get('http://oauth.reddit.com/r/python/top/?t=all', headers=headers, params={'limit' : '100', 'after' : after})\n",
    "    res2.json()\n",
    "\n",
    "    #sets the variable after to equal the name of the last post in the last request made\n",
    "    after = res2.json()['data']['after']\n",
    "\n",
    "    for post in res2.json()['data']['children']:\n",
    "        name2 = post ['data']['name']\n",
    "        link2 = name2[3:]\n",
    "        df = df.append({\n",
    "            'Question' : post['data']['selftext'],\n",
    "            'QuestionAlternative' : post['data']['title'],\n",
    "            'NFSW' : post['data']['over_18'],\n",
    "            'Name' : link2,\n",
    "            'Source' : 'Reddit ' + \"- r/\" + post ['data']['subreddit'],\n",
    "            'Number of Comments' : post['data']['num_comments']\n",
    "        }, ignore_index=True)\n",
    "\n",
    "#this prints the dataframe when the while loop as ended\n",
    "df"
   ]
  },
  {
   "cell_type": "code",
   "execution_count": 15,
   "metadata": {},
   "outputs": [],
   "source": [
    "#exports the dataframe to the Questions CSV file ready to be cleaned\n",
    "df.to_csv('Questions.csv')"
   ]
  }
 ],
 "metadata": {
  "interpreter": {
   "hash": "a42ccb73e7d9bfdf27e036f1d2b8b681e55fc0743cc5586bc2474d4a60f4b886"
  },
  "kernelspec": {
   "display_name": "Python 3.10.2 64-bit",
   "language": "python",
   "name": "python3"
  },
  "language_info": {
   "codemirror_mode": {
    "name": "ipython",
    "version": 3
   },
   "file_extension": ".py",
   "mimetype": "text/x-python",
   "name": "python",
   "nbconvert_exporter": "python",
   "pygments_lexer": "ipython3",
   "version": "3.10.2"
  },
  "orig_nbformat": 4
 },
 "nbformat": 4,
 "nbformat_minor": 2
}
